{
  "nbformat": 4,
  "nbformat_minor": 0,
  "metadata": {
    "colab": {
      "name": "NN_BPC6.ipynb",
      "provenance": [],
      "collapsed_sections": [],
      "include_colab_link": true
    },
    "kernelspec": {
      "name": "python3",
      "display_name": "Python 3"
    },
    "accelerator": "GPU"
  },
  "cells": [
    {
      "cell_type": "markdown",
      "metadata": {
        "id": "view-in-github",
        "colab_type": "text"
      },
      "source": [
        "<a href=\"https://colab.research.google.com/github/Skulduggery64/TensorFlow-DeepLearning_2020/blob/master/NN_BPC6.ipynb\" target=\"_parent\"><img src=\"https://colab.research.google.com/assets/colab-badge.svg\" alt=\"Open In Colab\"/></a>"
      ]
    },
    {
      "cell_type": "markdown",
      "metadata": {
        "id": "nB7VDJnTe3Vi",
        "colab_type": "text"
      },
      "source": [
        "Experimental Skript for a Neural Network to predict BPC6 DNA bindung\n"
      ]
    },
    {
      "cell_type": "markdown",
      "metadata": {
        "id": "ZiTLFcNUfGow",
        "colab_type": "text"
      },
      "source": [
        "Mount Google drive (nnproject2020@gmail.com)"
      ]
    },
    {
      "cell_type": "code",
      "metadata": {
        "id": "eHwOaUvBw3Jl",
        "colab_type": "code",
        "colab": {
          "base_uri": "https://localhost:8080/",
          "height": 34
        },
        "outputId": "dbbc0b25-29af-46df-dbc9-3815c67f12cd"
      },
      "source": [
        "from google.colab import drive\n",
        "drive.mount('/content/drive')"
      ],
      "execution_count": null,
      "outputs": [
        {
          "output_type": "stream",
          "text": [
            "Drive already mounted at /content/drive; to attempt to forcibly remount, call drive.mount(\"/content/drive\", force_remount=True).\n"
          ],
          "name": "stdout"
        }
      ]
    },
    {
      "cell_type": "markdown",
      "metadata": {
        "id": "Afq1ojpefU1w",
        "colab_type": "text"
      },
      "source": [
        "Import all needed liberies, some may are not used. Jused added a lot of them an never deleted not needed ones ;) \n"
      ]
    },
    {
      "cell_type": "code",
      "metadata": {
        "id": "Dq7V6xtewNMr",
        "colab_type": "code",
        "colab": {}
      },
      "source": [
        "\n",
        "import numpy as np\n",
        "import matplotlib.pyplot as plt\n",
        "import tensorflow as tf\n",
        "from tensorflow import keras\n",
        "from sklearn.preprocessing import normalize\n",
        "from tensorflow.keras import layers\n",
        "from tensorflow.keras import initializers\n",
        "from tensorflow.keras.utils import Sequence\n",
        "from tensorflow.keras import Sequential\n",
        "from tensorflow.keras.utils import to_categorical\n",
        "import pickle\n",
        "from numpy import loadtxt\n",
        "import math\n",
        "import random\n",
        "import os\n",
        "\n",
        "from tensorflow.keras.preprocessing.image import ImageDataGenerator\n",
        "\n",
        "from IPython.display import clear_output\n"
      ],
      "execution_count": null,
      "outputs": []
    },
    {
      "cell_type": "markdown",
      "metadata": {
        "id": "LevMU90jfylu",
        "colab_type": "text"
      },
      "source": [
        "Load Data:\n",
        "\n",
        "*   Imput: numpy-array of one-hot-end encoded genome sequence (shape: chromosome length, 4) \n",
        "\n",
        "  example: ACGTN --> [[0,0,0,1][0,0,1,0][0,1,0,0][1,0,0,0][0,0,0,0]]\n",
        "\n",
        "*   lable Number(integer) proportional to the proteins bound on this position in a ChiP-seq-experiment. \n",
        "  \n",
        "  One value per position (shape:  chromosome length, 1)\n",
        "\n",
        "Data for each chromosome is loaded individualy and concatenated together"
      ]
    },
    {
      "cell_type": "code",
      "metadata": {
        "id": "pum3wTxovJvt",
        "colab_type": "code",
        "colab": {
          "base_uri": "https://localhost:8080/",
          "height": 230
        },
        "outputId": "f6658f7a-e885-42e1-9dda-40afea7b6406"
      },
      "source": [
        "train_data= np.load(\"/content/drive/My Drive/BPC6Chip/Genome/Chr1Hot.npy\")\n",
        "train_lable=  np.load(\"/content/drive/My Drive/BPC6Chip/Chip/Chr1/chip-BPC-1-1.npy\")\n",
        "print(train_data.shape)\n",
        "print(train_lable.shape)\n",
        "\n",
        "train_data1= np.load(\"/content/drive/My Drive/BPC6Chip/Genome/Chr2Hot.npy\")\n",
        "train_lable1 = np.load(\"/content/drive/My Drive/BPC6Chip/Chip/Chr2/chip-BPC-1-1.npy\")\n",
        "\n",
        "train_lable1 = np.expand_dims(train_lable1,1)\n",
        "print(train_data1.shape)\n",
        "print(train_lable1.shape)\n",
        "train_data=np.concatenate((train_data,train_data1),0)\n",
        "train_lable=np.concatenate((train_lable,train_lable1),0)\n",
        "\n",
        "train_data1= np.load(\"/content/drive/My Drive/BPC6Chip/Genome/Chr3Hot.npy\")\n",
        "train_lable1 = np.load(\"/content/drive/My Drive/BPC6Chip/Chip/Chr3/chip-BPC-1-1.npy\")\n",
        "\n",
        "train_lable1 = np.expand_dims(train_lable1,1)\n",
        "print(train_data1.shape)\n",
        "print(train_lable1.shape)\n",
        "train_data=np.concatenate((train_data,train_data1),0)\n",
        "train_lable=np.concatenate((train_lable,train_lable1),0)\n",
        "\n",
        "\n",
        "train_data1= np.load(\"/content/drive/My Drive/BPC6Chip/Genome/Chr4Hot.npy\")\n",
        "train_lable1 = np.load(\"/content/drive/My Drive/BPC6Chip/Chip/Chr4/chip-BPC-1-1.npy\")\n",
        "\n",
        "train_lable1 = np.expand_dims(train_lable1,1)\n",
        "print(train_data1.shape)\n",
        "print(train_lable1.shape)\n",
        "train_data=np.concatenate((train_data,train_data1),0)\n",
        "train_lable=np.concatenate((train_lable,train_lable1),0)\n",
        "\n",
        "\n",
        "train_data1= np.load(\"/content/drive/My Drive/BPC6Chip/Genome/Chr5Hot.npy\")\n",
        "train_lable1 = np.load(\"/content/drive/My Drive/BPC6Chip/Chip/Chr5/chip-BPC-1-1.npy\")\n",
        "\n",
        "train_lable1 = np.expand_dims(train_lable1,1)\n",
        "print(train_data1.shape)\n",
        "print(train_lable1.shape)\n",
        "train_data=np.concatenate((train_data,train_data1),0)\n",
        "train_lable=np.concatenate((train_lable,train_lable1),0)\n",
        "\n",
        "print(train_data.shape)\n",
        "print(train_lable.shape)\n",
        "train_data1=()\n",
        "train_lable1 = ()\n",
        "Max=max(train_lable)\n",
        "train_lable=train_lable/Max\n"
      ],
      "execution_count": null,
      "outputs": [
        {
          "output_type": "stream",
          "text": [
            "(30432567, 4)\n",
            "(30432567, 1)\n",
            "(19705359, 4)\n",
            "(19705359, 1)\n",
            "(23470805, 4)\n",
            "(23470805, 1)\n",
            "(18585056, 4)\n",
            "(18585056, 1)\n",
            "(26992728, 4)\n",
            "(26992728, 1)\n",
            "(119186515, 4)\n",
            "(119186515, 1)\n"
          ],
          "name": "stdout"
        }
      ]
    },
    {
      "cell_type": "markdown",
      "metadata": {
        "id": "Jb2DeVLsjlSs",
        "colab_type": "text"
      },
      "source": [
        "\n",
        "Set  hyperparameters:\n",
        "\n",
        "sampelSize  =  how  many  data  will  be  used  (maximal)  \n",
        "\n",
        "seqLength  =  How  long  is  the  Input  sequence\n",
        "\n",
        "stepsize  =  how  much  space  left  between  pecked  samples\n",
        "\n",
        "testSetlegth  =  number  of  data  in  the  test/validation  set\n",
        "\n",
        "labelWindow  =  the  range  of  output  data  (labels)  that  should  be  predicted  (centred  to  the  input  data)\n",
        "\n",
        "bins  =  number  of  equal  spaced  windows  to  normalize  the  data  (discribed  later)\n",
        "\n",
        "batch_size=Batch  size  used  for  batch  gradient  decent\n",
        "\n",
        "Testfaktor  =  ratio  of  the  data  separated  as  validation/test  set.  Data  a  separated  as  one  chunk  because  close  data  are  highly  equal.  By  separating  them  as  one  chunk  similar  data  in  train  and  test  set  are  avoided.\n",
        "\n"
      ]
    },
    {
      "cell_type": "code",
      "metadata": {
        "id": "jd2iJpG8m9rz",
        "colab_type": "code",
        "colab": {}
      },
      "source": [
        "sampleSize = 250000\n",
        "Testfaktor=0.2\n",
        "seqLength= 100\n",
        "testSetLength= sampleSize*Testfaktor\n",
        "labelWindow=1\n",
        "bins=3\n",
        "batch_size=128\n"
      ],
      "execution_count": null,
      "outputs": []
    },
    {
      "cell_type": "markdown",
      "metadata": {
        "id": "ncMMgfKBwACn",
        "colab_type": "text"
      },
      "source": [
        "\n",
        "separating test data from train data and print where the test set starts"
      ]
    },
    {
      "cell_type": "code",
      "metadata": {
        "id": "XLYKhbmebgvN",
        "colab_type": "code",
        "colab": {
          "base_uri": "https://localhost:8080/",
          "height": 141
        },
        "outputId": "51ba8316-b754-4063-e79a-b1d63c17fe5f"
      },
      "source": [
        "rand = np.random.randint(0,len(train_lable)-int(len(train_lable)*Testfaktor),size=1)\n",
        "rand=int(rand[0])\n",
        "print(rand,rand+int(len(train_lable)*Testfaktor))\n",
        "test_data= train_data[rand:rand+int(len(train_lable)*Testfaktor),:]\n",
        "test_label = train_lable[rand:rand+int(len(train_lable)*Testfaktor),:]\n",
        "\n",
        "train_data=np.delete(train_data,np.s_[rand:rand+int(len(train_lable)*Testfaktor)],0)\n",
        "train_lable=np.delete(train_lable,np.s_[rand:rand+int(len(train_lable)*Testfaktor)],0)\n",
        "\n",
        "print(train_data.shape)\n",
        "print(train_lable.shape)\n",
        "print(test_data.shape)\n",
        "print(test_label.shape)\n",
        "\n",
        "Chr1test=rand\n",
        "Chr2test=(rand-30432567)\n",
        "Chr3test=(rand-30432567-19705359)\n",
        "Chr4test=(rand-30432567-19705359-23470805)\n",
        "Chr5test=(rand-30432567-19705359-23470805-18585056)\n",
        "\n",
        "if Chr2test < 0:\n",
        "  print(\"Test set begins at Chromosome 1\")\n",
        "  print(Chr1test)\n",
        "if Chr2test > 0 and Chr3test <0:\n",
        "  print(\"Test set begins at Chromosome 2\")\n",
        "  print(Chr2test)\n",
        "if Chr3test > 0 and Chr4test < 0:\n",
        "  print(\"Test set begins at Chromosome 3\")\n",
        "  print(Chr3test)\n",
        "if Chr4test > 0 and Chr5test<0:\n",
        "  print(\"Test set begins at Chromosome 4\")\n",
        "  print(Chr4test)\n",
        "if Chr5test > 0 :\n",
        "  print(\"Test set begins at Chromosome 5\")\n",
        "  print(Chr5test)\n"
      ],
      "execution_count": null,
      "outputs": [
        {
          "output_type": "stream",
          "text": [
            "50544201 74381504\n",
            "(95349212, 4)\n",
            "(95349212, 1)\n",
            "(23837303, 4)\n",
            "(23837303, 1)\n",
            "Test set begins at Chromosome 3\n",
            "406275\n"
          ],
          "name": "stdout"
        }
      ]
    },
    {
      "cell_type": "markdown",
      "metadata": {
        "id": "e_EqgpYQl2qC",
        "colab_type": "text"
      },
      "source": [
        "Function to normalize the data based on equal spaced windows. \n",
        "\n",
        "the plt.hist function creates a Histogram of the label data with a number of bins defined above \n",
        "\n",
        "pick equal number of data per bin. If the number of data in one bin is smaller than sampleSize/bins all data from that bin are picked.\n",
        "\n",
        "In the end the reverse complement sequences are attached and the labels are doubled to match this. \n",
        "\n",
        "The loaded data are erased to free ram.\n",
        "\n"
      ]
    },
    {
      "cell_type": "code",
      "metadata": {
        "id": "Qa-PLaluZN_e",
        "colab_type": "code",
        "colab": {
          "base_uri": "https://localhost:8080/",
          "height": 346
        },
        "outputId": "dfcd04d7-a2c9-4ecb-980b-4261657e5f5e"
      },
      "source": [
        "hist_border=plt.hist(train_lable,bins=bins)[1]\n",
        "hist_size=plt.hist(train_lable,bins=bins)[0]\n",
        "index_label=np.array(range(0,len(test_label)))\n",
        "index_label=index_label.reshape((len(index_label),1))\n",
        "test_T=np.zeros((1,seqLength,4))\n",
        "test_L=np.zeros((1,1))\n",
        "for i in range(0,len(hist_border)-1):\n",
        "  sample_i=index_label[np.where(np.logical_and(test_label>=hist_border[i], test_label<=hist_border[i+1]))]\n",
        "  test_T1=np.zeros((min(int(testSetLength/bins),len(sample_i)),seqLength,4))\n",
        "  test_L1=np.zeros((min(int(testSetLength/bins),len(sample_i)),1))\n",
        "  rand=np.random.choice(sample_i,size=min(int(testSetLength/bins),len(sample_i)),replace=False)\n",
        "  rand=np.delete(rand,np.where(rand>=(len(test_label[:,0])-seqLength)))\n",
        "  rand=np.delete(rand,np.where(rand<seqLength))\n",
        "  x=0\n",
        "  for j in rand:\n",
        "    test_T1[x]= test_data[int(j-seqLength/2):int(j+seqLength/2)]\n",
        "    test_L1[x] = np.mean(test_label[int(j-labelWindow/2):int(j+labelWindow/2)])\n",
        "    x = x+1\n",
        "  test_T=np.concatenate((test_T,test_T1),0)\n",
        "  test_L=np.concatenate((test_L,test_L1),0)\n",
        "\n",
        "test_T=np.concatenate((test_T,np.flip(np.flip(test_T,axis=1),axis=2)),0)\n",
        "test_L=np.concatenate((test_L,test_L),0)\n",
        "\n",
        "\n",
        "\n",
        "print(test_L.shape)\n",
        "print(test_T.shape)\n",
        "test_label=()\n",
        "test_data=()\n",
        "\n",
        "index_label=np.array(range(0,len(train_lable)))\n",
        "index_label=index_label.reshape((len(index_label),1))\n",
        "train=np.zeros((1,seqLength,4))\n",
        "lable=np.zeros((1,1))\n",
        "for i in range(0,len(hist_border)-1):\n",
        "  sample_i=index_label[np.where(np.logical_and(train_lable>=hist_border[i], train_lable<=hist_border[i+1]))]\n",
        "  train1=np.zeros((min(int(sampleSize/bins),len(sample_i)),seqLength,4))\n",
        "  lable1=np.zeros((min(int(sampleSize/bins),len(sample_i)),1))\n",
        "  rand=np.random.choice(sample_i,size=min(int(sampleSize/bins),len(sample_i)),replace=False)\n",
        "  rand=np.delete(rand,np.where(rand>=(len(train_lable[:,0])-seqLength)))\n",
        "  x=0\n",
        "  for j in rand:\n",
        "    train1[x]= train_data[int(j-seqLength/2):int(j+seqLength/2)]\n",
        "    lable1[x] = np.mean(train_lable[int(j-labelWindow/2):int(j+labelWindow/2)])\n",
        "    x = x+1\n",
        "  train=np.concatenate((train,train1),0)\n",
        "  lable=np.concatenate((lable,lable1),0)\n",
        "\n",
        "train=np.concatenate((train,np.flip(np.flip(train,axis=1),axis=2)),0)\n",
        "lable=np.concatenate((lable,lable),0)\n",
        "\n",
        "print(lable.shape)\n",
        "print(train.shape)\n",
        "train_data=()\n",
        "train_lable=()"
      ],
      "execution_count": null,
      "outputs": [
        {
          "output_type": "stream",
          "text": [
            "(38548, 1)\n",
            "(38548, 100, 4)\n",
            "(183968, 1)\n",
            "(183968, 100, 4)\n"
          ],
          "name": "stdout"
        },
        {
          "output_type": "display_data",
          "data": {
            "image/png": "[encoded data removed]",
            "text/plain": [
              "<Figure size 432x288 with 1 Axes>"
            ]
          },
          "metadata": {
            "tags": [],
            "needs_background": "light"
          }
        }
      ]
    },
    {
      "cell_type": "code",
      "metadata": {
        "id": "4Gj42thtzYM6",
        "colab_type": "code",
        "colab": {
          "base_uri": "https://localhost:8080/",
          "height": 282
        },
        "outputId": "c8cbeed6-0af9-4476-925a-31e059d7e57d"
      },
      "source": [
        "plt.hist(test_L,bins=100)\n",
        "plt.show\n",
        "test_L.shape"
      ],
      "execution_count": null,
      "outputs": [
        {
          "output_type": "execute_result",
          "data": {
            "text/plain": [
              "(38548, 1)"
            ]
          },
          "metadata": {
            "tags": []
          },
          "execution_count": 7
        },
        {
          "output_type": "display_data",
          "data": {
            "image/png": "[encoded data removed]",
            "text/plain": [
              "<Figure size 432x288 with 1 Axes>"
            ]
          },
          "metadata": {
            "tags": [],
            "needs_background": "light"
          }
        }
      ]
    },
    {
      "cell_type": "code",
      "metadata": {
        "id": "phisnWjwz-D6",
        "colab_type": "code",
        "colab": {
          "base_uri": "https://localhost:8080/",
          "height": 285
        },
        "outputId": "052883fd-cff0-4b8c-a446-8eaa34a38acc"
      },
      "source": [
        "plt.hist(lable,bins=100)\n",
        "plt.show\n",
        "lable.shape"
      ],
      "execution_count": null,
      "outputs": [
        {
          "output_type": "execute_result",
          "data": {
            "text/plain": [
              "(183968, 1)"
            ]
          },
          "metadata": {
            "tags": []
          },
          "execution_count": 8
        },
        {
          "output_type": "display_data",
          "data": {
            "image/png": "[encoded data removed]",
            "text/plain": [
              "<Figure size 432x288 with 1 Axes>"
            ]
          },
          "metadata": {
            "tags": [],
            "needs_background": "light"
          }
        }
      ]
    },
    {
      "cell_type": "markdown",
      "metadata": {
        "id": "YgyzkdoerzQJ",
        "colab_type": "text"
      },
      "source": [
        "Some factions:\n",
        "\n",
        "Logcosh = loss function \n",
        "\n",
        "tensor to array needed to calculate Pearson correlation in tf_person correlation. Can be used as matrices to show model performance but do not work in TF 2.0\n",
        "\n",
        "look_at_adta = function to plot predicted and true labels and calculate the correlation to show model performance\n",
        "\n",
        "quan = loss function\n",
        "\n",
        "swish = new activation function\n"
      ]
    },
    {
      "cell_type": "code",
      "metadata": {
        "id": "33DF2Igo38Vw",
        "colab_type": "code",
        "colab": {
          "base_uri": "https://localhost:8080/",
          "height": 34
        },
        "outputId": "94b83c20-b37c-46d2-d2f6-287755dc0922"
      },
      "source": [
        "\n",
        "def tf_pearson(y_true, y_pred):\n",
        "    return tf.contrib.metrics.streaming_pearson_correlation(y_pred, y_true)[1]\n",
        "def logcosh(true, pred):\n",
        "    loss = keras.logcosh(abs(pred - true))\n",
        "    return k.sum(loss)*1000\n",
        "def tensor_to_array(tensor1):\n",
        "    return tensor1.numpy()\n",
        "def look_at_data(test_train,test_label):\n",
        "  pre = list()\n",
        "  thru = list()\n",
        "  pre= model.predict(test_train)\n",
        "  thru=(test_label)\n",
        "  pre=np.ndarray.tolist(pre)\n",
        "  thru=np.ndarray.tolist(thru)\n",
        "  plt.axis(xmin=0,ymin=0,xmax=1,ymax=1)\n",
        "  plt.plot(pre,thru,\".\")\n",
        "  plt.show()\n",
        "  flatpre=[]\n",
        "  flatThru=[]\n",
        "  for elem in pre:\n",
        "      for item in elem:\n",
        "          flatpre.append(item)\n",
        "  for elem in thru:\n",
        "      for item in elem:\n",
        "          flatThru.append(item)\n",
        "  \n",
        "  print(np.corrcoef(flatpre,flatThru)[0,1])\n",
        "\n",
        "def quan(true, pred, theta):\n",
        "    loss = np.where(true >= pred, theta*(np.abs(true-pred)), (1-theta)*(np.abs(true-pred)))\n",
        "    return np.sum(loss)\n",
        "    \n",
        "from keras.backend import sigmoid\n",
        "def swish(x, beta = 1):\n",
        "    return (x * sigmoid(beta * x))\n",
        "\n",
        "from keras.utils.generic_utils import get_custom_objects\n",
        "from keras.layers import Activation\n",
        "get_custom_objects().update({\"swish\": Activation(swish)})"
      ],
      "execution_count": null,
      "outputs": [
        {
          "output_type": "stream",
          "text": [
            "Using TensorFlow backend.\n"
          ],
          "name": "stderr"
        }
      ]
    },
    {
      "cell_type": "markdown",
      "metadata": {
        "id": "eKX-rY223WWO",
        "colab_type": "text"
      },
      "source": [
        "Plot losses after each epoch while training"
      ]
    },
    {
      "cell_type": "code",
      "metadata": {
        "id": "s6XJ6HxckfOX",
        "colab_type": "code",
        "colab": {}
      },
      "source": [
        "# updatable plot\n",
        "# a minimal example (sort of)\n",
        "%matplotlib inline\n",
        "class PlotLosses(keras.callbacks.Callback):\n",
        "    def on_train_begin(self, logs={}):\n",
        "        self.i = 0\n",
        "        self.x = []\n",
        "        self.losses = []\n",
        "        self.val_losses = []\n",
        "        \n",
        "        self.fig = plt.figure()\n",
        "        \n",
        "        self.logs = []\n",
        "\n",
        "    def on_epoch_end(self, epoch, logs={}):     \n",
        "        self.logs.append(logs)\n",
        "        self.x.append(self.i)\n",
        "        self.losses.append(logs.get('loss'))\n",
        "        self.val_losses.append(logs.get('val_loss'))\n",
        "        self.i += 1\n",
        "        \n",
        "        clear_output(wait=True)\n",
        "        plt.plot(self.x, self.losses, label=\"loss\")\n",
        "        plt.plot(self.x, self.val_losses, label=\"val_loss\")\n",
        "        plt.legend()\n",
        "        plt.show();\n",
        "        \n",
        "plot_losses = PlotLosses()"
      ],
      "execution_count": null,
      "outputs": []
    },
    {
      "cell_type": "code",
      "metadata": {
        "id": "IWNq0VL32xpT",
        "colab_type": "code",
        "colab": {
          "base_uri": "https://localhost:8080/",
          "height": 834
        },
        "outputId": "9158d0fb-67f8-458d-a9b8-2342220f2240"
      },
      "source": [
        "do = 0.6\n",
        "model = tf.keras.models.Sequential([\n",
        "    tf.keras.layers.InputLayer((seqLength,4)),\n",
        "    tf.keras.layers.Conv1D(128,9,padding=\"same\",activation=swish),\n",
        "    tf.keras.layers.SpatialDropout1D(do),\n",
        "    tf.keras.layers.Conv1D(128,9,padding=\"same\",activation=swish),\n",
        "    tf.keras.layers.SpatialDropout1D(do),\n",
        "    tf.keras.layers.MaxPool1D(),\n",
        "    tf.keras.layers.Conv1D(64,9,padding=\"same\",activation=swish),\n",
        "    tf.keras.layers.SpatialDropout1D(do),\n",
        "    tf.keras.layers.Conv1D(64,9,padding=\"same\",activation=swish),\n",
        "    tf.keras.layers.SpatialDropout1D(do),\n",
        "    tf.keras.layers.MaxPool1D(), \n",
        "    tf.keras.layers.Conv1D(64,9,padding=\"same\",activation=swish),\n",
        "    tf.keras.layers.Flatten(),    \n",
        "    tf.keras.layers.Dropout(do),      \n",
        "    tf.keras.layers.Dense(256,activation=swish) ,\n",
        "    tf.keras.layers.Dropout(do),\n",
        "    tf.keras.layers.Dense(256,activation=swish) ,\n",
        "    tf.keras.layers.Dropout(do),\n",
        "    tf.keras.layers.Dense(128,activation=swish) ,\n",
        "    tf.keras.layers.Dense(1,activation=swish),\n",
        "])\n",
        "history=()\n",
        "model.summary()"
      ],
      "execution_count": null,
      "outputs": [
        {
          "output_type": "stream",
          "text": [
            "Model: \"sequential_4\"\n",
            "_________________________________________________________________\n",
            "Layer (type)                 Output Shape              Param #   \n",
            "=================================================================\n",
            "conv1d_18 (Conv1D)           (None, 100, 128)          4736      \n",
            "_________________________________________________________________\n",
            "spatial_dropout1d_14 (Spatia (None, 100, 128)          0         \n",
            "_________________________________________________________________\n",
            "conv1d_19 (Conv1D)           (None, 100, 128)          147584    \n",
            "_________________________________________________________________\n",
            "spatial_dropout1d_15 (Spatia (None, 100, 128)          0         \n",
            "_________________________________________________________________\n",
            "max_pooling1d_8 (MaxPooling1 (None, 50, 128)           0         \n",
            "_________________________________________________________________\n",
            "conv1d_20 (Conv1D)           (None, 50, 64)            73792     \n",
            "_________________________________________________________________\n",
            "spatial_dropout1d_16 (Spatia (None, 50, 64)            0         \n",
            "_________________________________________________________________\n",
            "conv1d_21 (Conv1D)           (None, 50, 64)            36928     \n",
            "_________________________________________________________________\n",
            "spatial_dropout1d_17 (Spatia (None, 50, 64)            0         \n",
            "_________________________________________________________________\n",
            "max_pooling1d_9 (MaxPooling1 (None, 25, 64)            0         \n",
            "_________________________________________________________________\n",
            "conv1d_22 (Conv1D)           (None, 25, 64)            36928     \n",
            "_________________________________________________________________\n",
            "flatten_4 (Flatten)          (None, 1600)              0         \n",
            "_________________________________________________________________\n",
            "dropout_12 (Dropout)         (None, 1600)              0         \n",
            "_________________________________________________________________\n",
            "dense_16 (Dense)             (None, 256)               409856    \n",
            "_________________________________________________________________\n",
            "dropout_13 (Dropout)         (None, 256)               0         \n",
            "_________________________________________________________________\n",
            "dense_17 (Dense)             (None, 256)               65792     \n",
            "_________________________________________________________________\n",
            "dropout_14 (Dropout)         (None, 256)               0         \n",
            "_________________________________________________________________\n",
            "dense_18 (Dense)             (None, 128)               32896     \n",
            "_________________________________________________________________\n",
            "dense_19 (Dense)             (None, 1)                 129       \n",
            "=================================================================\n",
            "Total params: 808,641\n",
            "Trainable params: 808,641\n",
            "Non-trainable params: 0\n",
            "_________________________________________________________________\n"
          ],
          "name": "stdout"
        }
      ]
    },
    {
      "cell_type": "code",
      "metadata": {
        "id": "LxQnpF3IESbP",
        "colab_type": "code",
        "colab": {}
      },
      "source": [
        "optimizer = tf.keras.optimizers.Adam(0.0001)\n",
        "model.compile(   loss=\"MSE\")"
      ],
      "execution_count": null,
      "outputs": []
    },
    {
      "cell_type": "code",
      "metadata": {
        "id": "koEy4d79DVP_",
        "colab_type": "code",
        "colab": {
          "base_uri": "https://localhost:8080/",
          "height": 635
        },
        "outputId": "a9838060-7673-4584-fdca-6d28e525f100"
      },
      "source": [
        "history = model.fit(train,lable, epochs=50, validation_data=(test_T,test_L),\n",
        "                    callbacks=[plot_losses], verbose=1,batch_size=1024 )"
      ],
      "execution_count": null,
      "outputs": [
        {
          "output_type": "display_data",
          "data": {
            "image/png": "[encoded data removed]",
            "text/plain": [
              "<Figure size 432x288 with 1 Axes>"
            ]
          },
          "metadata": {
            "tags": [],
            "needs_background": "light"
          }
        },
        {
          "output_type": "stream",
          "text": [
            "180/180 [==============================] - 24s 134ms/step - loss: 0.0138 - val_loss: 0.0225\n",
            "Epoch 10/50\n",
            "131/180 [====================>.........] - ETA: 6s - loss: 0.0137"
          ],
          "name": "stdout"
        },
        {
          "output_type": "error",
          "ename": "KeyboardInterrupt",
          "evalue": "ignored",
          "traceback": [
            "\u001b[0;31m---------------------------------------------------------------------------\u001b[0m",
            "\u001b[0;31mKeyboardInterrupt\u001b[0m                         Traceback (most recent call last)",
            "\u001b[0;32m<ipython-input-35-3554e738ab7b>\u001b[0m in \u001b[0;36m<module>\u001b[0;34m()\u001b[0m\n\u001b[1;32m      1\u001b[0m history = model.fit(train,lable, epochs=50, validation_data=(test_T,test_L),\n\u001b[0;32m----> 2\u001b[0;31m                     callbacks=[plot_losses], verbose=1,batch_size=1024 )\n\u001b[0m",
            "\u001b[0;32m/usr/local/lib/python3.6/dist-packages/tensorflow/python/keras/engine/training.py\u001b[0m in \u001b[0;36m_method_wrapper\u001b[0;34m(self, *args, **kwargs)\u001b[0m\n\u001b[1;32m     64\u001b[0m   \u001b[0;32mdef\u001b[0m \u001b[0m_method_wrapper\u001b[0m\u001b[0;34m(\u001b[0m\u001b[0mself\u001b[0m\u001b[0;34m,\u001b[0m \u001b[0;34m*\u001b[0m\u001b[0margs\u001b[0m\u001b[0;34m,\u001b[0m \u001b[0;34m**\u001b[0m\u001b[0mkwargs\u001b[0m\u001b[0;34m)\u001b[0m\u001b[0;34m:\u001b[0m\u001b[0;34m\u001b[0m\u001b[0;34m\u001b[0m\u001b[0m\n\u001b[1;32m     65\u001b[0m     \u001b[0;32mif\u001b[0m \u001b[0;32mnot\u001b[0m \u001b[0mself\u001b[0m\u001b[0;34m.\u001b[0m\u001b[0m_in_multi_worker_mode\u001b[0m\u001b[0;34m(\u001b[0m\u001b[0;34m)\u001b[0m\u001b[0;34m:\u001b[0m  \u001b[0;31m# pylint: disable=protected-access\u001b[0m\u001b[0;34m\u001b[0m\u001b[0;34m\u001b[0m\u001b[0m\n\u001b[0;32m---> 66\u001b[0;31m       \u001b[0;32mreturn\u001b[0m \u001b[0mmethod\u001b[0m\u001b[0;34m(\u001b[0m\u001b[0mself\u001b[0m\u001b[0;34m,\u001b[0m \u001b[0;34m*\u001b[0m\u001b[0margs\u001b[0m\u001b[0;34m,\u001b[0m \u001b[0;34m**\u001b[0m\u001b[0mkwargs\u001b[0m\u001b[0;34m)\u001b[0m\u001b[0;34m\u001b[0m\u001b[0;34m\u001b[0m\u001b[0m\n\u001b[0m\u001b[1;32m     67\u001b[0m \u001b[0;34m\u001b[0m\u001b[0m\n\u001b[1;32m     68\u001b[0m     \u001b[0;31m# Running inside `run_distribute_coordinator` already.\u001b[0m\u001b[0;34m\u001b[0m\u001b[0;34m\u001b[0m\u001b[0;34m\u001b[0m\u001b[0m\n",
            "\u001b[0;32m/usr/local/lib/python3.6/dist-packages/tensorflow/python/keras/engine/training.py\u001b[0m in \u001b[0;36mfit\u001b[0;34m(self, x, y, batch_size, epochs, verbose, callbacks, validation_split, validation_data, shuffle, class_weight, sample_weight, initial_epoch, steps_per_epoch, validation_steps, validation_batch_size, validation_freq, max_queue_size, workers, use_multiprocessing)\u001b[0m\n\u001b[1;32m    853\u001b[0m                 \u001b[0mcontext\u001b[0m\u001b[0;34m.\u001b[0m\u001b[0masync_wait\u001b[0m\u001b[0;34m(\u001b[0m\u001b[0;34m)\u001b[0m\u001b[0;34m\u001b[0m\u001b[0;34m\u001b[0m\u001b[0m\n\u001b[1;32m    854\u001b[0m               \u001b[0mlogs\u001b[0m \u001b[0;34m=\u001b[0m \u001b[0mtmp_logs\u001b[0m  \u001b[0;31m# No error, now safe to assign to logs.\u001b[0m\u001b[0;34m\u001b[0m\u001b[0;34m\u001b[0m\u001b[0m\n\u001b[0;32m--> 855\u001b[0;31m               \u001b[0mcallbacks\u001b[0m\u001b[0;34m.\u001b[0m\u001b[0mon_train_batch_end\u001b[0m\u001b[0;34m(\u001b[0m\u001b[0mstep\u001b[0m\u001b[0;34m,\u001b[0m \u001b[0mlogs\u001b[0m\u001b[0;34m)\u001b[0m\u001b[0;34m\u001b[0m\u001b[0;34m\u001b[0m\u001b[0m\n\u001b[0m\u001b[1;32m    856\u001b[0m         \u001b[0mepoch_logs\u001b[0m \u001b[0;34m=\u001b[0m \u001b[0mcopy\u001b[0m\u001b[0;34m.\u001b[0m\u001b[0mcopy\u001b[0m\u001b[0;34m(\u001b[0m\u001b[0mlogs\u001b[0m\u001b[0;34m)\u001b[0m\u001b[0;34m\u001b[0m\u001b[0;34m\u001b[0m\u001b[0m\n\u001b[1;32m    857\u001b[0m \u001b[0;34m\u001b[0m\u001b[0m\n",
            "\u001b[0;32m/usr/local/lib/python3.6/dist-packages/tensorflow/python/keras/callbacks.py\u001b[0m in \u001b[0;36mon_train_batch_end\u001b[0;34m(self, batch, logs)\u001b[0m\n\u001b[1;32m    387\u001b[0m     \"\"\"\n\u001b[1;32m    388\u001b[0m     \u001b[0;32mif\u001b[0m \u001b[0mself\u001b[0m\u001b[0;34m.\u001b[0m\u001b[0m_should_call_train_batch_hooks\u001b[0m\u001b[0;34m:\u001b[0m\u001b[0;34m\u001b[0m\u001b[0;34m\u001b[0m\u001b[0m\n\u001b[0;32m--> 389\u001b[0;31m       \u001b[0mlogs\u001b[0m \u001b[0;34m=\u001b[0m \u001b[0mself\u001b[0m\u001b[0;34m.\u001b[0m\u001b[0m_process_logs\u001b[0m\u001b[0;34m(\u001b[0m\u001b[0mlogs\u001b[0m\u001b[0;34m)\u001b[0m\u001b[0;34m\u001b[0m\u001b[0;34m\u001b[0m\u001b[0m\n\u001b[0m\u001b[1;32m    390\u001b[0m       \u001b[0mself\u001b[0m\u001b[0;34m.\u001b[0m\u001b[0m_call_batch_hook\u001b[0m\u001b[0;34m(\u001b[0m\u001b[0mModeKeys\u001b[0m\u001b[0;34m.\u001b[0m\u001b[0mTRAIN\u001b[0m\u001b[0;34m,\u001b[0m \u001b[0;34m'end'\u001b[0m\u001b[0;34m,\u001b[0m \u001b[0mbatch\u001b[0m\u001b[0;34m,\u001b[0m \u001b[0mlogs\u001b[0m\u001b[0;34m=\u001b[0m\u001b[0mlogs\u001b[0m\u001b[0;34m)\u001b[0m\u001b[0;34m\u001b[0m\u001b[0;34m\u001b[0m\u001b[0m\n\u001b[1;32m    391\u001b[0m \u001b[0;34m\u001b[0m\u001b[0m\n",
            "\u001b[0;32m/usr/local/lib/python3.6/dist-packages/tensorflow/python/keras/callbacks.py\u001b[0m in \u001b[0;36m_process_logs\u001b[0;34m(self, logs)\u001b[0m\n\u001b[1;32m    263\u001b[0m     \u001b[0;34m\"\"\"Turns tensors into numpy arrays or Python scalars.\"\"\"\u001b[0m\u001b[0;34m\u001b[0m\u001b[0;34m\u001b[0m\u001b[0m\n\u001b[1;32m    264\u001b[0m     \u001b[0;32mif\u001b[0m \u001b[0mlogs\u001b[0m\u001b[0;34m:\u001b[0m\u001b[0;34m\u001b[0m\u001b[0;34m\u001b[0m\u001b[0m\n\u001b[0;32m--> 265\u001b[0;31m       \u001b[0;32mreturn\u001b[0m \u001b[0mtf_utils\u001b[0m\u001b[0;34m.\u001b[0m\u001b[0mto_numpy_or_python_type\u001b[0m\u001b[0;34m(\u001b[0m\u001b[0mlogs\u001b[0m\u001b[0;34m)\u001b[0m\u001b[0;34m\u001b[0m\u001b[0;34m\u001b[0m\u001b[0m\n\u001b[0m\u001b[1;32m    266\u001b[0m     \u001b[0;32mreturn\u001b[0m \u001b[0;34m{\u001b[0m\u001b[0;34m}\u001b[0m\u001b[0;34m\u001b[0m\u001b[0;34m\u001b[0m\u001b[0m\n\u001b[1;32m    267\u001b[0m \u001b[0;34m\u001b[0m\u001b[0m\n",
            "\u001b[0;32m/usr/local/lib/python3.6/dist-packages/tensorflow/python/keras/utils/tf_utils.py\u001b[0m in \u001b[0;36mto_numpy_or_python_type\u001b[0;34m(tensors)\u001b[0m\n\u001b[1;32m    521\u001b[0m     \u001b[0;32mreturn\u001b[0m \u001b[0mt\u001b[0m  \u001b[0;31m# Don't turn ragged or sparse tensors to NumPy.\u001b[0m\u001b[0;34m\u001b[0m\u001b[0;34m\u001b[0m\u001b[0m\n\u001b[1;32m    522\u001b[0m \u001b[0;34m\u001b[0m\u001b[0m\n\u001b[0;32m--> 523\u001b[0;31m   \u001b[0;32mreturn\u001b[0m \u001b[0mnest\u001b[0m\u001b[0;34m.\u001b[0m\u001b[0mmap_structure\u001b[0m\u001b[0;34m(\u001b[0m\u001b[0m_to_single_numpy_or_python_type\u001b[0m\u001b[0;34m,\u001b[0m \u001b[0mtensors\u001b[0m\u001b[0;34m)\u001b[0m\u001b[0;34m\u001b[0m\u001b[0;34m\u001b[0m\u001b[0m\n\u001b[0m\u001b[1;32m    524\u001b[0m \u001b[0;34m\u001b[0m\u001b[0m\n",
            "\u001b[0;32m/usr/local/lib/python3.6/dist-packages/tensorflow/python/util/nest.py\u001b[0m in \u001b[0;36mmap_structure\u001b[0;34m(func, *structure, **kwargs)\u001b[0m\n\u001b[1;32m    615\u001b[0m \u001b[0;34m\u001b[0m\u001b[0m\n\u001b[1;32m    616\u001b[0m   return pack_sequence_as(\n\u001b[0;32m--> 617\u001b[0;31m       \u001b[0mstructure\u001b[0m\u001b[0;34m[\u001b[0m\u001b[0;36m0\u001b[0m\u001b[0;34m]\u001b[0m\u001b[0;34m,\u001b[0m \u001b[0;34m[\u001b[0m\u001b[0mfunc\u001b[0m\u001b[0;34m(\u001b[0m\u001b[0;34m*\u001b[0m\u001b[0mx\u001b[0m\u001b[0;34m)\u001b[0m \u001b[0;32mfor\u001b[0m \u001b[0mx\u001b[0m \u001b[0;32min\u001b[0m \u001b[0mentries\u001b[0m\u001b[0;34m]\u001b[0m\u001b[0;34m,\u001b[0m\u001b[0;34m\u001b[0m\u001b[0;34m\u001b[0m\u001b[0m\n\u001b[0m\u001b[1;32m    618\u001b[0m       expand_composites=expand_composites)\n\u001b[1;32m    619\u001b[0m \u001b[0;34m\u001b[0m\u001b[0m\n",
            "\u001b[0;32m/usr/local/lib/python3.6/dist-packages/tensorflow/python/util/nest.py\u001b[0m in \u001b[0;36m<listcomp>\u001b[0;34m(.0)\u001b[0m\n\u001b[1;32m    615\u001b[0m \u001b[0;34m\u001b[0m\u001b[0m\n\u001b[1;32m    616\u001b[0m   return pack_sequence_as(\n\u001b[0;32m--> 617\u001b[0;31m       \u001b[0mstructure\u001b[0m\u001b[0;34m[\u001b[0m\u001b[0;36m0\u001b[0m\u001b[0;34m]\u001b[0m\u001b[0;34m,\u001b[0m \u001b[0;34m[\u001b[0m\u001b[0mfunc\u001b[0m\u001b[0;34m(\u001b[0m\u001b[0;34m*\u001b[0m\u001b[0mx\u001b[0m\u001b[0;34m)\u001b[0m \u001b[0;32mfor\u001b[0m \u001b[0mx\u001b[0m \u001b[0;32min\u001b[0m \u001b[0mentries\u001b[0m\u001b[0;34m]\u001b[0m\u001b[0;34m,\u001b[0m\u001b[0;34m\u001b[0m\u001b[0;34m\u001b[0m\u001b[0m\n\u001b[0m\u001b[1;32m    618\u001b[0m       expand_composites=expand_composites)\n\u001b[1;32m    619\u001b[0m \u001b[0;34m\u001b[0m\u001b[0m\n",
            "\u001b[0;32m/usr/local/lib/python3.6/dist-packages/tensorflow/python/keras/utils/tf_utils.py\u001b[0m in \u001b[0;36m_to_single_numpy_or_python_type\u001b[0;34m(t)\u001b[0m\n\u001b[1;32m    517\u001b[0m   \u001b[0;32mdef\u001b[0m \u001b[0m_to_single_numpy_or_python_type\u001b[0m\u001b[0;34m(\u001b[0m\u001b[0mt\u001b[0m\u001b[0;34m)\u001b[0m\u001b[0;34m:\u001b[0m\u001b[0;34m\u001b[0m\u001b[0;34m\u001b[0m\u001b[0m\n\u001b[1;32m    518\u001b[0m     \u001b[0;32mif\u001b[0m \u001b[0misinstance\u001b[0m\u001b[0;34m(\u001b[0m\u001b[0mt\u001b[0m\u001b[0;34m,\u001b[0m \u001b[0mops\u001b[0m\u001b[0;34m.\u001b[0m\u001b[0mTensor\u001b[0m\u001b[0;34m)\u001b[0m\u001b[0;34m:\u001b[0m\u001b[0;34m\u001b[0m\u001b[0;34m\u001b[0m\u001b[0m\n\u001b[0;32m--> 519\u001b[0;31m       \u001b[0mx\u001b[0m \u001b[0;34m=\u001b[0m \u001b[0mt\u001b[0m\u001b[0;34m.\u001b[0m\u001b[0mnumpy\u001b[0m\u001b[0;34m(\u001b[0m\u001b[0;34m)\u001b[0m\u001b[0;34m\u001b[0m\u001b[0;34m\u001b[0m\u001b[0m\n\u001b[0m\u001b[1;32m    520\u001b[0m       \u001b[0;32mreturn\u001b[0m \u001b[0mx\u001b[0m\u001b[0;34m.\u001b[0m\u001b[0mitem\u001b[0m\u001b[0;34m(\u001b[0m\u001b[0;34m)\u001b[0m \u001b[0;32mif\u001b[0m \u001b[0mnp\u001b[0m\u001b[0;34m.\u001b[0m\u001b[0mndim\u001b[0m\u001b[0;34m(\u001b[0m\u001b[0mx\u001b[0m\u001b[0;34m)\u001b[0m \u001b[0;34m==\u001b[0m \u001b[0;36m0\u001b[0m \u001b[0;32melse\u001b[0m \u001b[0mx\u001b[0m\u001b[0;34m\u001b[0m\u001b[0;34m\u001b[0m\u001b[0m\n\u001b[1;32m    521\u001b[0m     \u001b[0;32mreturn\u001b[0m \u001b[0mt\u001b[0m  \u001b[0;31m# Don't turn ragged or sparse tensors to NumPy.\u001b[0m\u001b[0;34m\u001b[0m\u001b[0;34m\u001b[0m\u001b[0m\n",
            "\u001b[0;32m/usr/local/lib/python3.6/dist-packages/tensorflow/python/framework/ops.py\u001b[0m in \u001b[0;36mnumpy\u001b[0;34m(self)\u001b[0m\n\u001b[1;32m    959\u001b[0m     \"\"\"\n\u001b[1;32m    960\u001b[0m     \u001b[0;31m# TODO(slebedev): Consider avoiding a copy for non-CPU or remote tensors.\u001b[0m\u001b[0;34m\u001b[0m\u001b[0;34m\u001b[0m\u001b[0;34m\u001b[0m\u001b[0m\n\u001b[0;32m--> 961\u001b[0;31m     \u001b[0mmaybe_arr\u001b[0m \u001b[0;34m=\u001b[0m \u001b[0mself\u001b[0m\u001b[0;34m.\u001b[0m\u001b[0m_numpy\u001b[0m\u001b[0;34m(\u001b[0m\u001b[0;34m)\u001b[0m  \u001b[0;31m# pylint: disable=protected-access\u001b[0m\u001b[0;34m\u001b[0m\u001b[0;34m\u001b[0m\u001b[0m\n\u001b[0m\u001b[1;32m    962\u001b[0m     \u001b[0;32mreturn\u001b[0m \u001b[0mmaybe_arr\u001b[0m\u001b[0;34m.\u001b[0m\u001b[0mcopy\u001b[0m\u001b[0;34m(\u001b[0m\u001b[0;34m)\u001b[0m \u001b[0;32mif\u001b[0m \u001b[0misinstance\u001b[0m\u001b[0;34m(\u001b[0m\u001b[0mmaybe_arr\u001b[0m\u001b[0;34m,\u001b[0m \u001b[0mnp\u001b[0m\u001b[0;34m.\u001b[0m\u001b[0mndarray\u001b[0m\u001b[0;34m)\u001b[0m \u001b[0;32melse\u001b[0m \u001b[0mmaybe_arr\u001b[0m\u001b[0;34m\u001b[0m\u001b[0;34m\u001b[0m\u001b[0m\n\u001b[1;32m    963\u001b[0m \u001b[0;34m\u001b[0m\u001b[0m\n",
            "\u001b[0;32m/usr/local/lib/python3.6/dist-packages/tensorflow/python/framework/ops.py\u001b[0m in \u001b[0;36m_numpy\u001b[0;34m(self)\u001b[0m\n\u001b[1;32m    925\u001b[0m     \u001b[0;31m# pylint: disable=protected-access\u001b[0m\u001b[0;34m\u001b[0m\u001b[0;34m\u001b[0m\u001b[0;34m\u001b[0m\u001b[0m\n\u001b[1;32m    926\u001b[0m     \u001b[0;32mtry\u001b[0m\u001b[0;34m:\u001b[0m\u001b[0;34m\u001b[0m\u001b[0;34m\u001b[0m\u001b[0m\n\u001b[0;32m--> 927\u001b[0;31m       \u001b[0;32mreturn\u001b[0m \u001b[0mself\u001b[0m\u001b[0;34m.\u001b[0m\u001b[0m_numpy_internal\u001b[0m\u001b[0;34m(\u001b[0m\u001b[0;34m)\u001b[0m\u001b[0;34m\u001b[0m\u001b[0;34m\u001b[0m\u001b[0m\n\u001b[0m\u001b[1;32m    928\u001b[0m     \u001b[0;32mexcept\u001b[0m \u001b[0mcore\u001b[0m\u001b[0;34m.\u001b[0m\u001b[0m_NotOkStatusException\u001b[0m \u001b[0;32mas\u001b[0m \u001b[0me\u001b[0m\u001b[0;34m:\u001b[0m\u001b[0;34m\u001b[0m\u001b[0;34m\u001b[0m\u001b[0m\n\u001b[1;32m    929\u001b[0m       \u001b[0msix\u001b[0m\u001b[0;34m.\u001b[0m\u001b[0mraise_from\u001b[0m\u001b[0;34m(\u001b[0m\u001b[0mcore\u001b[0m\u001b[0;34m.\u001b[0m\u001b[0m_status_to_exception\u001b[0m\u001b[0;34m(\u001b[0m\u001b[0me\u001b[0m\u001b[0;34m.\u001b[0m\u001b[0mcode\u001b[0m\u001b[0;34m,\u001b[0m \u001b[0me\u001b[0m\u001b[0;34m.\u001b[0m\u001b[0mmessage\u001b[0m\u001b[0;34m)\u001b[0m\u001b[0;34m,\u001b[0m \u001b[0;32mNone\u001b[0m\u001b[0;34m)\u001b[0m\u001b[0;34m\u001b[0m\u001b[0;34m\u001b[0m\u001b[0m\n",
            "\u001b[0;31mKeyboardInterrupt\u001b[0m: "
          ]
        }
      ]
    },
    {
      "cell_type": "markdown",
      "metadata": {
        "id": "EtI4JpXj1a6T",
        "colab_type": "text"
      },
      "source": [
        "Plot some test data (true data Y-axis, predicted data X-axis) and calcualte the correlation"
      ]
    },
    {
      "cell_type": "code",
      "metadata": {
        "id": "rae-3Bao4Mr7",
        "colab_type": "code",
        "colab": {
          "base_uri": "https://localhost:8080/",
          "height": 286
        },
        "outputId": "7b4b0ad5-afba-4486-cbfb-532623fd555d"
      },
      "source": [
        "rand = np.random.randint(0,test_L.shape[0],size=1000)\n",
        "look_at_data(test_T[rand],test_L[rand])"
      ],
      "execution_count": null,
      "outputs": [
        {
          "output_type": "display_data",
          "data": {
            "image/png": "[encoded data removed]",
            "text/plain": [
              "<Figure size 432x288 with 1 Axes>"
            ]
          },
          "metadata": {
            "tags": [],
            "needs_background": "light"
          }
        },
        {
          "output_type": "stream",
          "text": [
            "0.39248141410374815\n"
          ],
          "name": "stdout"
        }
      ]
    },
    {
      "cell_type": "markdown",
      "metadata": {
        "id": "xh2sZuEK3t5Z",
        "colab_type": "text"
      },
      "source": [
        "Plot some train data (true data Y-axis, predicted data X-axis) and calcualte the correlation"
      ]
    },
    {
      "cell_type": "code",
      "metadata": {
        "id": "DYE9yiM0k9iT",
        "colab_type": "code",
        "colab": {
          "base_uri": "https://localhost:8080/",
          "height": 286
        },
        "outputId": "278185eb-abaf-4f89-b1a0-1dae7f5a7903"
      },
      "source": [
        "rand = np.random.randint(0,lable.shape[0],size=10000)\n",
        "look_at_data(train[rand],lable[rand])"
      ],
      "execution_count": null,
      "outputs": [
        {
          "output_type": "display_data",
          "data": {
            "image/png": "[encoded data removed]",
            "text/plain": [
              "<Figure size 432x288 with 1 Axes>"
            ]
          },
          "metadata": {
            "tags": [],
            "needs_background": "light"
          }
        },
        {
          "output_type": "stream",
          "text": [
            "0.8360830232503306\n"
          ],
          "name": "stdout"
        }
      ]
    },
    {
      "cell_type": "markdown",
      "metadata": {
        "id": "_JDMuJkQ1hvi",
        "colab_type": "text"
      },
      "source": [
        "Load the chromosome with the test data on it\n",
        "\n",
        "\n"
      ]
    },
    {
      "cell_type": "code",
      "metadata": {
        "id": "Ifx5mBU_VTc1",
        "colab_type": "code",
        "colab": {}
      },
      "source": [
        "if Chr2test < 0:\n",
        "  test_data= np.load(\"/content/drive/My Drive/BPC6Chip/Genome/Chr1Hot.npy\")\n",
        "  test_label=  np.load(\"/content/drive/My Drive/BPC6Chip/Chip/Chr1/chip-BPC-1-1.npy\")\n",
        "  test_pos=Chr1test\n",
        "if Chr2test > 0 and Chr3test <0:\n",
        "  test_data= np.load(\"/content/drive/My Drive/BPC6Chip/Genome/Chr2Hot.npy\")\n",
        "  test_label=  np.load(\"/content/drive/My Drive/BPC6Chip/Chip/Chr2/chip-BPC-1-1.npy\")\n",
        "  test_label = np.expand_dims(test_label,1)\n",
        "  test_pos=Chr2test\n",
        "if Chr3test > 0 and Chr4test <0:\n",
        "  test_data= np.load(\"/content/drive/My Drive/BPC6Chip/Genome/Chr3Hot.npy\")\n",
        "  test_label=  np.load(\"/content/drive/My Drive/BPC6Chip/Chip/Chr3/chip-BPC-1-1.npy\")\n",
        "  test_label = np.expand_dims(test_label,1)\n",
        "  test_pos=Chr3test\n",
        "if Chr4test > 0 and Chr5test < 0:\n",
        "  test_data= np.load(\"/content/drive/My Drive/BPC6Chip/Genome/Chr4Hot.npy\")\n",
        "  test_label=  np.load(\"/content/drive/My Drive/BPC6Chip/Chip/Chr4/chip-BPC-1-1.npy\")\n",
        "  test_label = np.expand_dims(test_label,1)\n",
        "  test_pos=Chr4test\n",
        "if Chr5test > 0 :\n",
        "  test_data= np.load(\"/content/drive/My Drive/BPC6Chip/Genome/Chr5Hot.npy\")\n",
        "  test_label=  np.load(\"/content/drive/My Drive/BPC6Chip/Chip/Chr5/chip-BPC-1-1.npy\")\n",
        "  test_label = np.expand_dims(test_label,1)\n",
        "  test_pos=Chr5test\n"
      ],
      "execution_count": null,
      "outputs": []
    },
    {
      "cell_type": "code",
      "metadata": {
        "id": "4nbLE4sXnWEr",
        "colab_type": "code",
        "colab": {}
      },
      "source": [
        "def window_stack(a, stepsize=1, width=3):\n",
        "    return np.hstack( a[i:1+i-width or None:stepsize] for i in range(0,width))\n",
        "def running_mean(x, N):\n",
        "  cumsum = np.cumsum(np.insert(x, 0, 0)) \n",
        "  return (cumsum[N:] - cumsum[:-N]) / float(N)"
      ],
      "execution_count": null,
      "outputs": []
    },
    {
      "cell_type": "markdown",
      "metadata": {
        "id": "ARP1gyr_69Xb",
        "colab_type": "text"
      },
      "source": [
        "plot a rigion from the test set"
      ]
    },
    {
      "cell_type": "code",
      "metadata": {
        "id": "70XgZht5nY59",
        "colab_type": "code",
        "colab": {
          "base_uri": "https://localhost:8080/",
          "height": 300
        },
        "outputId": "5e4e8955-d2a8-4183-ac82-f701754059ca"
      },
      "source": [
        "window=100\n",
        "testwindow=10000\n",
        "start=test_pos+512000\n",
        "print(start)\n",
        "testW_train=test_data[start:start+testwindow]\n",
        "testW_label=test_label[start:start+testwindow]\n",
        "\n",
        "train1=np.zeros((len(testW_label),seqLength,4))\n",
        "lable1=np.zeros((len(testW_label),1))\n",
        "x=0\n",
        "for j in range(int(seqLength/2),int(len(testW_label)-seqLength/2)):\n",
        "  train1[x]= testW_train[int(j-seqLength/2):int(j+seqLength/2)]\n",
        "  lable1[x] = np.mean(testW_label[int(j-labelWindow/2):int(j+labelWindow/2)])\n",
        "  x = x+1\n",
        "testW_train=train1\n",
        "testW_label=lable1\n",
        "\n",
        "testW_label=testW_label/Max\n",
        "testW_label=running_mean(testW_label,window)\n",
        "xaxis=range(start,start+testwindow)\n",
        "xaxis=xaxis[:-window+1]\n",
        "plt.plot(xaxis,testW_label)\n",
        "pre= model.predict(testW_train)\n",
        "pre = running_mean(pre,window)\n",
        "pre=np.ndarray.tolist(pre)\n",
        "\n",
        "plt.plot(xaxis,pre)"
      ],
      "execution_count": null,
      "outputs": [
        {
          "output_type": "stream",
          "text": [
            "918275\n"
          ],
          "name": "stdout"
        },
        {
          "output_type": "execute_result",
          "data": {
            "text/plain": [
              "[<matplotlib.lines.Line2D at 0x7f143fd2aa20>]"
            ]
          },
          "metadata": {
            "tags": []
          },
          "execution_count": 27
        },
        {
          "output_type": "display_data",
          "data": {
            "image/png": "[encoded data removed]",
            "text/plain": [
              "<Figure size 432x288 with 1 Axes>"
            ]
          },
          "metadata": {
            "tags": [],
            "needs_background": "light"
          }
        }
      ]
    }
  ]
}